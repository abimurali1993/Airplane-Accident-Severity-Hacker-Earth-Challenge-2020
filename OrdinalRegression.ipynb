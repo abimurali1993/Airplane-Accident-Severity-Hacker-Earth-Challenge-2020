{
 "cells": [
  {
   "cell_type": "code",
   "execution_count": 56,
   "metadata": {
    "ExecuteTime": {
     "end_time": "2020-01-25T03:26:24.571842Z",
     "start_time": "2020-01-25T03:26:24.556750Z"
    }
   },
   "outputs": [],
   "source": [
    "import pandas as pd\n",
    "from sklearn.ensemble import RandomForestRegressor\n",
    "from sklearn import preprocessing\n",
    "import mord\n",
    "import math"
   ]
  },
  {
   "cell_type": "code",
   "execution_count": 50,
   "metadata": {
    "ExecuteTime": {
     "end_time": "2020-01-25T03:25:37.574982Z",
     "start_time": "2020-01-25T03:25:37.523703Z"
    }
   },
   "outputs": [],
   "source": [
    "train = pd.read_csv('Data/train.csv')\n",
    "test = pd.read_csv('Data/test.csv')\n",
    "x = train.drop(['Accident_ID','Severity'],axis=1)"
   ]
  },
  {
   "cell_type": "code",
   "execution_count": 51,
   "metadata": {
    "ExecuteTime": {
     "end_time": "2020-01-25T03:25:40.064060Z",
     "start_time": "2020-01-25T03:25:40.045610Z"
    }
   },
   "outputs": [],
   "source": [
    "lb = preprocessing.LabelEncoder()\n",
    "lb.fit(train['Severity'])\n",
    "y = lb.transform(train['Severity'])"
   ]
  },
  {
   "cell_type": "code",
   "execution_count": 52,
   "metadata": {
    "ExecuteTime": {
     "end_time": "2020-01-25T03:25:45.276696Z",
     "start_time": "2020-01-25T03:25:42.312199Z"
    }
   },
   "outputs": [
    {
     "data": {
      "text/plain": [
       "RandomForestRegressor(bootstrap=True, ccp_alpha=0.0, criterion='mse',\n",
       "                      max_depth=9, max_features='auto', max_leaf_nodes=None,\n",
       "                      max_samples=None, min_impurity_decrease=0.0,\n",
       "                      min_impurity_split=None, min_samples_leaf=1,\n",
       "                      min_samples_split=2, min_weight_fraction_leaf=0.0,\n",
       "                      n_estimators=100, n_jobs=None, oob_score=False,\n",
       "                      random_state=None, verbose=0, warm_start=False)"
      ]
     },
     "execution_count": 52,
     "metadata": {},
     "output_type": "execute_result"
    }
   ],
   "source": [
    "regr = RandomForestRegressor(max_depth=9)\n",
    "regr.fit(x,y)"
   ]
  },
  {
   "cell_type": "code",
   "execution_count": 53,
   "metadata": {
    "ExecuteTime": {
     "end_time": "2020-01-25T03:25:49.678137Z",
     "start_time": "2020-01-25T03:25:49.655318Z"
    }
   },
   "outputs": [],
   "source": [
    "x1 = test.drop(['Accident_ID'],axis=1)"
   ]
  },
  {
   "cell_type": "code",
   "execution_count": 57,
   "metadata": {
    "ExecuteTime": {
     "end_time": "2020-01-25T03:26:30.445536Z",
     "start_time": "2020-01-25T03:26:30.387480Z"
    }
   },
   "outputs": [],
   "source": [
    "ypred = regr.predict(x1)\n",
    "y1 = [int(math.floor(x)) for x in ypred]\n",
    "y1 = lb.inverse_transform(y1)"
   ]
  },
  {
   "cell_type": "code",
   "execution_count": 45,
   "metadata": {
    "ExecuteTime": {
     "end_time": "2020-01-25T03:20:35.912292Z",
     "start_time": "2020-01-25T03:20:35.909908Z"
    }
   },
   "outputs": [],
   "source": [
    "oc = mord.LogisticAT(alpha=1.0, verbose=0)"
   ]
  },
  {
   "cell_type": "code",
   "execution_count": 46,
   "metadata": {
    "ExecuteTime": {
     "end_time": "2020-01-25T03:20:50.611996Z",
     "start_time": "2020-01-25T03:20:44.411639Z"
    }
   },
   "outputs": [
    {
     "data": {
      "text/plain": [
       "LogisticAT(alpha=1.0, max_iter=1000, verbose=0)"
      ]
     },
     "execution_count": 46,
     "metadata": {},
     "output_type": "execute_result"
    }
   ],
   "source": [
    "oc.fit(x,y)"
   ]
  },
  {
   "cell_type": "code",
   "execution_count": 47,
   "metadata": {
    "ExecuteTime": {
     "end_time": "2020-01-25T03:21:17.785416Z",
     "start_time": "2020-01-25T03:21:17.725609Z"
    }
   },
   "outputs": [],
   "source": [
    "oc.predict(x1)\n",
    "y1 = [int(round(x)) for x in ypred]\n",
    "y1 = lb.inverse_transform(y1)"
   ]
  },
  {
   "cell_type": "code",
   "execution_count": 58,
   "metadata": {
    "ExecuteTime": {
     "end_time": "2020-01-25T03:26:45.094600Z",
     "start_time": "2020-01-25T03:26:45.051123Z"
    }
   },
   "outputs": [],
   "source": [
    "submission = pd.DataFrame()\n",
    "submission['Accident_ID'] = test['Accident_ID']\n",
    "submission['Severity'] = y1\n",
    "export_csv = submission.to_csv (r'predictions.csv', index = False, header=True)"
   ]
  }
 ],
 "metadata": {
  "kernelspec": {
   "display_name": "Python 3",
   "language": "python",
   "name": "python3"
  },
  "language_info": {
   "codemirror_mode": {
    "name": "ipython",
    "version": 3
   },
   "file_extension": ".py",
   "mimetype": "text/x-python",
   "name": "python",
   "nbconvert_exporter": "python",
   "pygments_lexer": "ipython3",
   "version": "3.6.10"
  }
 },
 "nbformat": 4,
 "nbformat_minor": 2
}
